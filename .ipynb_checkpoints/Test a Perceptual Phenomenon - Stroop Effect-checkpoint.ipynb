{
 "cells": [
  {
   "cell_type": "markdown",
   "metadata": {},
   "source": [
    "## *Questions For Investigation*\n",
    "### Mack Damavandi <br> February 26, 2019\n",
    "\n",
    "**1**. What is our independent variable? What is our dependent variable?\n",
    "> **Answer:** The independent variable is the congruency of the words (whether or not the color of the font matches the word that is spelled out). The dependent variable is the speed at which the test subject can identify the color of the font of each word.\n",
    "\n",
    "**2**. What is an appropriate set of hypotheses for this task? What kind of statistical test do you expect to perform? Justify your choices.\n",
    "> **Answer:** An appropriate null hypothesis for this project would be that the mean duration for completing the Stroop task given congruent words is equal to the mean duration of completing the Stroop task given incongruent words. The alternative hypothesis is that the mean duration of the Stroop task differs between congruent and incongruent words. I would expect to perform a two-sided T-test for this hypothesis test.\n",
    "<br>H<sub>0</sub>: $\\mu$<sub>Congruent</sub> $-$ $\\mu$<sub>Incongruent</sub> $=$ 0<br> H<sub>A</sub>: $\\mu$<sub>Congruent</sub> $-$ $\\mu$<sub>Incongruent</sub> $\\not =$ 0<br>$\\alpha =$ 0.05\n",
    "\n",
    "My durations for the Stroop task were:\n",
    "* Congruent words: 22.499 seconds\n",
    "* Incongruent words: 26.38 seconds\n",
    "\n",
    "**3**. Report some descriptive statistics regarding this dataset. Include at least one measure of central tendency and at least one measure of variability.\n",
    "> **Answer:** The pandas package of Python has a nice function called describe() which will provide the mean, standard deviation, and IQR of both the Congruent and Incongruent data. After importing a few packages, I'll execute the following code to read the CSV in and output the descriptive statistics.\n",
    "    \n",
    "    stroop = pd.read_csv('stroopdata.csv')\n",
    "    stroop.describe()"
   ]
  },
  {
   "cell_type": "code",
   "execution_count": 1,
   "metadata": {},
   "outputs": [],
   "source": [
    "import pandas as pd\n",
    "import numpy as np\n",
    "import seaborn as sns\n",
    "import matplotlib.pyplot as plt\n",
    "from scipy import stats\n",
    "from math import sqrt\n",
    "%matplotlib inline"
   ]
  },
  {
   "cell_type": "code",
   "execution_count": 2,
   "metadata": {},
   "outputs": [
    {
     "data": {
      "text/html": [
       "<div>\n",
       "<style scoped>\n",
       "    .dataframe tbody tr th:only-of-type {\n",
       "        vertical-align: middle;\n",
       "    }\n",
       "\n",
       "    .dataframe tbody tr th {\n",
       "        vertical-align: top;\n",
       "    }\n",
       "\n",
       "    .dataframe thead th {\n",
       "        text-align: right;\n",
       "    }\n",
       "</style>\n",
       "<table border=\"1\" class=\"dataframe\">\n",
       "  <thead>\n",
       "    <tr style=\"text-align: right;\">\n",
       "      <th></th>\n",
       "      <th>Congruent</th>\n",
       "      <th>Incongruent</th>\n",
       "    </tr>\n",
       "  </thead>\n",
       "  <tbody>\n",
       "    <tr>\n",
       "      <th>count</th>\n",
       "      <td>24.000000</td>\n",
       "      <td>24.000000</td>\n",
       "    </tr>\n",
       "    <tr>\n",
       "      <th>mean</th>\n",
       "      <td>14.051125</td>\n",
       "      <td>22.015917</td>\n",
       "    </tr>\n",
       "    <tr>\n",
       "      <th>std</th>\n",
       "      <td>3.559358</td>\n",
       "      <td>4.797057</td>\n",
       "    </tr>\n",
       "    <tr>\n",
       "      <th>min</th>\n",
       "      <td>8.630000</td>\n",
       "      <td>15.687000</td>\n",
       "    </tr>\n",
       "    <tr>\n",
       "      <th>25%</th>\n",
       "      <td>11.895250</td>\n",
       "      <td>18.716750</td>\n",
       "    </tr>\n",
       "    <tr>\n",
       "      <th>50%</th>\n",
       "      <td>14.356500</td>\n",
       "      <td>21.017500</td>\n",
       "    </tr>\n",
       "    <tr>\n",
       "      <th>75%</th>\n",
       "      <td>16.200750</td>\n",
       "      <td>24.051500</td>\n",
       "    </tr>\n",
       "    <tr>\n",
       "      <th>max</th>\n",
       "      <td>22.328000</td>\n",
       "      <td>35.255000</td>\n",
       "    </tr>\n",
       "  </tbody>\n",
       "</table>\n",
       "</div>"
      ],
      "text/plain": [
       "       Congruent  Incongruent\n",
       "count  24.000000    24.000000\n",
       "mean   14.051125    22.015917\n",
       "std     3.559358     4.797057\n",
       "min     8.630000    15.687000\n",
       "25%    11.895250    18.716750\n",
       "50%    14.356500    21.017500\n",
       "75%    16.200750    24.051500\n",
       "max    22.328000    35.255000"
      ]
     },
     "execution_count": 2,
     "metadata": {},
     "output_type": "execute_result"
    }
   ],
   "source": [
    "stroop = pd.read_csv('stroopdata.csv')\n",
    "stroop.describe()"
   ]
  },
  {
   "cell_type": "markdown",
   "metadata": {},
   "source": [
    "**4**. Provide one or two visualizations that show the distribution of the sample data. Write one or two sentences noting what you observe about the plot or plots.\n",
    "> **Answer:** I'll use a package called seaborn to render plots of the distributions."
   ]
  },
  {
   "cell_type": "code",
   "execution_count": 3,
   "metadata": {
    "scrolled": true
   },
   "outputs": [
    {
     "data": {
      "text/plain": [
       "<matplotlib.axes._subplots.AxesSubplot at 0x2776ff09780>"
      ]
     },
     "execution_count": 3,
     "metadata": {},
     "output_type": "execute_result"
    },
    {
     "data": {
      "image/png": "[encoded data removed]",
      "text/plain": [
       "<matplotlib.figure.Figure at 0x2776fe433c8>"
      ]
     },
     "metadata": {},
     "output_type": "display_data"
    }
   ],
   "source": [
    "fig, (ax1, ax2) = plt.subplots(ncols=2, sharey=True)\n",
    "sns.distplot(stroop['Congruent'], rug=True, ax=ax1)\n",
    "sns.distplot(stroop['Incongruent'], rug=True, ax=ax2)"
   ]
  },
  {
   "cell_type": "markdown",
   "metadata": {},
   "source": [
    "> **Answer cont.:** As we can see from these kernel density estimation (KDE) plots, we have a pretty good grouping on both the congruent and incongruent data. The distributions are both approaching a normal distribution, with the incongruent data showing a slight second grouping between 30 and 40 seconds."
   ]
  },
  {
   "cell_type": "code",
   "execution_count": 4,
   "metadata": {},
   "outputs": [
    {
     "data": {
      "text/plain": [
       "<matplotlib.legend.Legend at 0x2776982da90>"
      ]
     },
     "execution_count": 4,
     "metadata": {},
     "output_type": "execute_result"
    },
    {
     "data": {
      "image/png": "[encoded data removed]",
      "text/plain": [
       "<matplotlib.figure.Figure at 0x27770020a90>"
      ]
     },
     "metadata": {},
     "output_type": "display_data"
    }
   ],
   "source": [
    "sns.kdeplot(stroop['Congruent'])\n",
    "sns.kdeplot(stroop['Incongruent'])\n",
    "plt.legend()"
   ]
  },
  {
   "cell_type": "markdown",
   "metadata": {},
   "source": [
    "> **Answer cont.:** I liked this visualization so I decided to include it as well. It plots the KDE functions in the same plot. This helps to support my theory that the mean duration for completing the Stroop task with incongruent words is greater than the mean duration of completing the task with congruent words.\n",
    "\n",
    "**5**. Now, perform the statistical test and report your results. What is your confidence level and your critical statistic value? Do you reject the null hypothesis or fail to reject it? Come to a conclusion in terms of the experiment task. Did the results match up with your expectations?\n",
    "\n",
    "> **Answer:** I want to test whether or not the mean duration of completing the Stroop task with congruent words is the same as the mean duration of completing the Stroop task with incongruent words. Below is the setup for my hypothesis test. <br>H<sub>0</sub>: $\\mu$<sub>Congruent</sub> $-$ $\\mu$<sub>Incongruent</sub> $=$ 0<br> H<sub>A</sub>: $\\mu$<sub>Congruent</sub> $-$ $\\mu$<sub>Incongruent</sub> $\\not =$ 0<br>$\\alpha =$ 0.05"
   ]
  },
  {
   "cell_type": "code",
   "execution_count": 5,
   "metadata": {},
   "outputs": [],
   "source": [
    "stroop['Difference'] = stroop['Congruent'] - stroop['Incongruent']"
   ]
  },
  {
   "cell_type": "code",
   "execution_count": 6,
   "metadata": {},
   "outputs": [],
   "source": [
    "point_estimate = stroop['Difference'].mean()"
   ]
  },
  {
   "cell_type": "code",
   "execution_count": 7,
   "metadata": {},
   "outputs": [],
   "source": [
    "standard_deviation = stroop['Difference'].std(ddof=1) \n",
    "# ddof=1 lets the function know to use degrees of freedom = 1 when calculating the standard deviation"
   ]
  },
  {
   "cell_type": "code",
   "execution_count": 8,
   "metadata": {},
   "outputs": [],
   "source": [
    "t_stat = point_estimate / (standard_deviation / sqrt(stroop['Difference'].count()))"
   ]
  },
  {
   "cell_type": "code",
   "execution_count": 9,
   "metadata": {},
   "outputs": [],
   "source": [
    "t_critical = (\n",
    "    stats.t.ppf(q=0.025, df=stroop['Difference'].count()-1), # q=0.025 comes from alpha equal to 0.05\n",
    "    stats.t.ppf(q=1-0.025, df=stroop['Difference'].count()-1)\n",
    ")"
   ]
  },
  {
   "cell_type": "code",
   "execution_count": 10,
   "metadata": {},
   "outputs": [],
   "source": [
    "reject = t_stat < t_critical[0] or t_stat > t_critical[1] "
   ]
  },
  {
   "cell_type": "code",
   "execution_count": 11,
   "metadata": {},
   "outputs": [],
   "source": [
    "p_value = stats.t.cdf(x=t_stat, df=23) + (1 - stats.t.cdf(x=-t_stat, df=23))"
   ]
  },
  {
   "cell_type": "code",
   "execution_count": 12,
   "metadata": {},
   "outputs": [
    {
     "name": "stdout",
     "output_type": "stream",
     "text": [
      "T-statistic:  -8.020706944109957\n",
      "P-value:  4.1030005847219926e-08\n",
      "Critical values:  (-2.068657610419041, 2.0686576104190406)\n",
      "Confidence interval:  (-10.019027909364912, -5.910555423968423)\n",
      "Reject?  True\n"
     ]
    }
   ],
   "source": [
    "confidence_interval = (\n",
    "    point_estimate + t_critical[0] * standard_deviation / sqrt(stroop['Difference'].count()),\n",
    "    point_estimate + t_critical[1] * standard_deviation / sqrt(stroop['Difference'].count())\n",
    ")\n",
    "print('T-statistic: ', t_stat)\n",
    "print('P-value: ', p_value)\n",
    "print('Critical values: ', t_critical)\n",
    "print('Confidence interval: ', confidence_interval)\n",
    "print('Reject? ', reject)"
   ]
  },
  {
   "cell_type": "markdown",
   "metadata": {},
   "source": [
    "> **Answer cont.:** We reject the null hypothesis, since our t-statisitic falls within the critical region. Since the p-value is less than our alpha of 0.05, we can conclude that our results are statistically significant and our evidence against the null hypothesis is strong.<br><br>\n",
    "At the alpha 0.05, we can be 95% certain that the mean difference is between $-$10.02 and $-$5.911 seconds. In other words, performing the Stroop task with incongruent words will be on average 10 to 6 seconds slower than performing the Stroop task given congruent words. The critical values used in calculating this confidence interval were $\\pm$2.069.<br><br>\n",
    "The results did match up with my expectations for the experiment. When I performed the Stroop task, I experienced much more difficulty with the incongruent words than the congruent words. At first glance, the data seemed to suggest that was the case in general also. After performing the hypothesis test, we can be sure that it will take longer when identifying the colors from the incongruent words."
   ]
  },
  {
   "cell_type": "markdown",
   "metadata": {},
   "source": [
    "### Resources Used\n",
    "\n",
    "* https://www.markdownguide.org/\n",
    "* https://pandas.pydata.org/pandas-docs/stable/index.html\n",
    "* https://seaborn.pydata.org/tutorial/distributions.html\n",
    "* https://jakevdp.github.io/PythonDataScienceHandbook/\n",
    "* https://docs.scipy.org/doc/scipy/reference/\n",
    "* Udacity Lecture L10a"
   ]
  }
 ],
 "metadata": {
  "kernelspec": {
   "display_name": "Python 3",
   "language": "python",
   "name": "python3"
  },
  "language_info": {
   "codemirror_mode": {
    "name": "ipython",
    "version": 3
   },
   "file_extension": ".py",
   "mimetype": "text/x-python",
   "name": "python",
   "nbconvert_exporter": "python",
   "pygments_lexer": "ipython3",
   "version": "3.6.4"
  }
 },
 "nbformat": 4,
 "nbformat_minor": 2
}
